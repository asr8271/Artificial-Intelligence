{
 "cells": [
  {
   "cell_type": "markdown",
   "id": "13404738-44e7-4eed-b370-6da6fac19523",
   "metadata": {},
   "source": [
    "8 PUZZLE Using Simulated annealing"
   ]
  },
  {
   "cell_type": "markdown",
   "id": "6d34db2d-4169-4fd5-a386-5480d61d6b24",
   "metadata": {},
   "source": [
    "Importing all necessary libraries."
   ]
  },
  {
   "cell_type": "code",
   "execution_count": 188,
   "id": "d003df1b-2698-4ae3-9935-ba096c95508c",
   "metadata": {},
   "outputs": [],
   "source": [
    "import numpy as np\n",
    "import random\n",
    "import time\n",
    "import math\n",
    "import copy\n",
    "import sys\n",
    "sys.stdout = open('log_a.txt', 'w')"
   ]
  },
  {
   "cell_type": "code",
   "execution_count": 189,
   "id": "55d7984f-1231-4077-9f35-9d20ba653cb8",
   "metadata": {},
   "outputs": [],
   "source": [
    "def init():\n",
    "    start = np.array([1, 2, 3, 4, 0, 6, 7, 5, 8])\n",
    "    goal = np.array([1, 2, 3, 4, 5, 6, 7, 8, 0])\n",
    "    np.random.shuffle(start)                                    # shuffling initial State\n",
    "    start = np.reshape(start, (3, 3))\n",
    "    goal = np.reshape(goal, (3, 3))\n",
    "    return start, goal"
   ]
  },
  {
   "cell_type": "markdown",
   "id": "9f207762-da19-4d99-97b3-ec020d488b61",
   "metadata": {},
   "source": [
    "Calculating energy using Misplaced Tiles."
   ]
  },
  {
   "cell_type": "code",
   "execution_count": 190,
   "id": "43344b0c-fd14-4323-b683-fab30d8be795",
   "metadata": {},
   "outputs": [],
   "source": [
    "def energy(s, g):\n",
    "    count = 0\n",
    "    for i in range(1,9):\n",
    "        if (np.where(s == i) != np.where(g == i)):\n",
    "            count += 1   \n",
    "    return count"
   ]
  },
  {
   "cell_type": "code",
   "execution_count": 191,
   "id": "94e92659-0cab-4188-bfc0-72eba41ec179",
   "metadata": {},
   "outputs": [],
   "source": [
    "def moves(state):\n",
    "    current_state = state.copy()\n",
    "    y = {}\n",
    "    z_r, z_c = np.where(current_state == 0)                          #index of '0'\n",
    "    if z_r - 1 >= 0: \n",
    "        u_r, u_c = z_r - 1, z_c\n",
    "        y[\"u\"] = [u_r, u_c]                                          #UP\n",
    "    if z_r + 1 <= 2:\n",
    "        d_r, d_c = z_r + 1, z_c\n",
    "        y[\"d\"] = [d_r, d_c]                                          #DOWN\n",
    "    if z_c - 1 >= 0:\n",
    "        l_r, l_c = z_r, z_c - 1\n",
    "        y[\"l\"] = [l_r, l_c]                                          #LEFT\n",
    "    if z_c + 1 <= 2:\n",
    "        r_r, r_c = z_r, z_c + 1\n",
    "        y[\"r\"] = [r_r, r_c]                                          #RIGHT\n",
    "    return y"
   ]
  },
  {
   "cell_type": "code",
   "execution_count": 192,
   "id": "3d1d20c7-0c42-4097-9931-07b472782722",
   "metadata": {},
   "outputs": [],
   "source": [
    "def random_adj(state, goal):\n",
    "    current_state = state.copy()                                    #Keeping a copy of start state\n",
    "    direction = moves(state)                                        # getting all the possible moves\n",
    "    cache = list(direction.keys())\n",
    "    index = random.randrange(0, len(cache))\n",
    "    r, c = direction[cache[index]]\n",
    "    r, c = int(r), int(c) \n",
    "      \n",
    "    z_r, z_c = np.where(current_state == 0)                         # Locating position of zero\n",
    "    z_r, z_c = int(z_r), int(z_c)\n",
    "    temp = current_state[r][c]\n",
    "    current_state[z_r][z_c] = temp\n",
    "    current_state[r][c] = 0\n",
    "    dist = energy(current_state, goal)                              # Calcualting Energy of newly generated states\n",
    "    return current_state, dist"
   ]
  },
  {
   "cell_type": "markdown",
   "id": "f8b6ed8e-5ecf-485e-9f9c-93cf4cdb37c1",
   "metadata": {},
   "source": [
    "In this Function we have mainly checked Delta Energy, i.e, Change in Energy.\n",
    "Change in Energy = New Energy - Final Energy, if it's less than 0 ,  then it is acceptable.\n",
    "Else, Generate probability as well as a random number.\n",
    "Compare the probablity with random number , if it's less then do not reject it. Although its not feasible but we have to accept it as it might be useful in futures."
   ]
  },
  {
   "cell_type": "code",
   "execution_count": 193,
   "id": "6b040446-fb44-4efb-baad-ff10af00af8d",
   "metadata": {},
   "outputs": [],
   "source": [
    "def sim_anl_energy_check(T, T_min, r, L):\n",
    "\n",
    "    state, goal = init()\n",
    "    print(\"The Goal state is:\\n\", goal)\n",
    "    while T > T_min:\n",
    "        \n",
    "        for j in range(L):\n",
    "            \n",
    "            current_energy = energy(state, goal)\n",
    "            print(\"The current state is:\\n\", state)\n",
    "            print(\"The Energy in the current state is:\", current_energy)\n",
    "            if current_energy == 0: \n",
    "                return True\n",
    "            new_state, new_energy = random_adj(state, goal) \n",
    "            print(\"The randomly generated new solution state is:\\n\", new_state)\n",
    "            print(\"The Energy for randomly generating a new solution is:\", new_energy)\n",
    "            delta_energy = current_energy - new_energy\n",
    "            if delta_energy> 0:\n",
    "                print(\"This is a better solution, just accept it\")\n",
    "                state = new_state\n",
    "            else:\n",
    "                if math.exp(delta_energy / T)> random.random(): \n",
    "                    print(\"The probability of receiving a worse solution is:\", math.exp(delta_energy / T))\n",
    "                    print(\"This is a worse solution, but it was accepted\")\n",
    "                    state = new_state\n",
    "            T = T - r\n",
    "    return True "
   ]
  },
  {
   "cell_type": "code",
   "execution_count": 195,
   "id": "80d75149-96ca-4e96-aee7-df2a967d163d",
   "metadata": {},
   "outputs": [],
   "source": [
    "def SA_algo(T, T_min, r, L, num):\n",
    "    begin = time.time()\n",
    "    Success = 0\n",
    "    Failed = 0\n",
    "    for i in range(num):\n",
    "        if sim_anl_energy_check(T, T_min, r, L):\n",
    "            Success += 1\n",
    "            print(\"The {0}th example found the optimal solution\".format(i))\n",
    "        else:\n",
    "            Failed += 1\n",
    "            print(\"The {0}th example failed\".format(i))\n",
    "    end = time.time()\n",
    "    print(\"The successfully resolved example of the {0} examples is: {1}\".format(num, Success))\n",
    "    print(\"The percentage of successful solutions for {0} examples is: {1}\".format(num, Success / num))\n",
    "    print(\"The failed example in {0} examples is: {1}\".format(num, Failed))\n",
    "    print(\"The percentage of failed cases in {0} is: {1}\".format(num, Failed / num))\n",
    "    print(\"The time required for {0} examples to run the algorithm is: {1} seconds\".format(num, end-begin))\n",
    " \n",
    " \n",
    "SA_algo(T=100, T_min=0.1, r=2, L=10, num=10)"
   ]
  },
  {
   "cell_type": "code",
   "execution_count": null,
   "id": "f6b1507c-5aaf-4a34-9095-a59d45908a86",
   "metadata": {},
   "outputs": [],
   "source": []
  },
  {
   "cell_type": "code",
   "execution_count": null,
   "id": "401df783-8b09-47ee-8a6d-dc3412e0185b",
   "metadata": {},
   "outputs": [],
   "source": []
  }
 ],
 "metadata": {
  "kernelspec": {
   "display_name": "Python 3 (ipykernel)",
   "language": "python",
   "name": "python3"
  },
  "language_info": {
   "codemirror_mode": {
    "name": "ipython",
    "version": 3
   },
   "file_extension": ".py",
   "mimetype": "text/x-python",
   "name": "python",
   "nbconvert_exporter": "python",
   "pygments_lexer": "ipython3",
   "version": "3.8.7rc1"
  }
 },
 "nbformat": 4,
 "nbformat_minor": 5
}
