{
 "cells": [
  {
   "cell_type": "markdown",
   "id": "e83e4910-b94b-421a-a845-d3cc106d0122",
   "metadata": {},
   "source": [
    "8 PUZZLE Using Greedy Best First Search.\n",
    "\n",
    "Here we have defined number of misplaced tiles as Heuristic function."
   ]
  },
  {
   "cell_type": "code",
   "execution_count": 1,
   "id": "34e202d0-5ed6-4bfb-9505-913526614a7a",
   "metadata": {},
   "outputs": [],
   "source": [
    "import numpy as np\n",
    "import time    \n",
    "from copy import deepcopy"
   ]
  },
  {
   "cell_type": "markdown",
   "id": "5b79d187-fec6-44d0-a3fd-46d1fff3e60e",
   "metadata": {},
   "source": [
    "Here, I have defined the function for taking input."
   ]
  },
  {
   "cell_type": "code",
   "execution_count": 2,
   "id": "50b9e80a-2c9d-482e-b436-e10ff440d79d",
   "metadata": {},
   "outputs": [],
   "source": [
    "def getting_states():\n",
    "    string = input('Enter the elements serially for the 8 PUZZLE: ')\n",
    "    return string"
   ]
  },
  {
   "cell_type": "markdown",
   "id": "b678d122-c0ca-49e8-bba2-bb0aa3015f84",
   "metadata": {},
   "source": [
    "Here, This is inversion method for checking whether the problem is solvable or not. Suppose i am taking an example of 1,2,3,4,5,6,8,7,0. In this case 1,2,3,4,5,6,7 is having 0 inversion but 8 is having 1 inversion as it's preceding '7'. Hence, the given problem is 'Not Solvable'. consider one more example : 2,1,3,4,5,6,8,7,0. In this case we have total number of inversions =2. 2 is having one inversion and 8 is having one inversion. so, Toatl number of inversion = 2.(i.e. Even number of inversions) we can conclude that if a problem having odd number of inversions then it is Not solvable and if a problem has even number of inversions then problem can be solved."
   ]
  },
  {
   "cell_type": "code",
   "execution_count": 3,
   "id": "698dec9a-26ee-499b-93a8-0fe0247cc352",
   "metadata": {},
   "outputs": [],
   "source": [
    "def inversion_method(state):\n",
    "    i = state[state != 0]\n",
    "    inv = 0\n",
    "    for j in range(len(i) - 1):\n",
    "        b = np.array(np.where(i[j+1:] < i[j])).reshape(-1)\n",
    "        inv += len(b)\n",
    "    return inv"
   ]
  },
  {
   "cell_type": "markdown",
   "id": "11f93c61-3c57-47ec-8ef0-c539f902ae05",
   "metadata": {},
   "source": [
    "Here, I have defined a function for calculating heuristic based on the number of misplaced tiles as per original position at each state and then adding them."
   ]
  },
  {
   "cell_type": "code",
   "execution_count": 4,
   "id": "12cca344-7104-4004-aa00-ce167fff78d6",
   "metadata": {},
   "outputs": [],
   "source": [
    "def cal_heuristic(s, g):\n",
    "    count = 0\n",
    "    for i in range(9):\n",
    "            if ((s[i]) and\n",
    "                (s[i] != g[i])):\n",
    "                count += 1\n",
    "                 \n",
    "    return count"
   ]
  },
  {
   "cell_type": "markdown",
   "id": "e2da1bf4-7939-4981-87d7-ad624a3dfd8e",
   "metadata": {},
   "source": [
    "This function is checking for the occurence of each elements. i.e checking user input for correctness"
   ]
  },
  {
   "cell_type": "code",
   "execution_count": 5,
   "id": "40cb9c28-d92f-4319-8d35-9d6eaf7946fc",
   "metadata": {},
   "outputs": [],
   "source": [
    "def all(s):\n",
    "    set = '012345678'\n",
    "    return 0 not in [c in s for c in set]"
   ]
  },
  {
   "cell_type": "markdown",
   "id": "fc5e7f81-f54e-4269-bd01-20fc8f344b4b",
   "metadata": {},
   "source": [
    "This function is generating optimal by taking state as argument returned by the solve function."
   ]
  },
  {
   "cell_type": "code",
   "execution_count": 6,
   "id": "0e52d036-dba5-4641-bdc0-35fa06d5d73e",
   "metadata": {},
   "outputs": [],
   "source": [
    "def generate_optimal(state):\n",
    "    optimal = np.array([], int).reshape(-1, 9)\n",
    "    last = len(state) - 1\n",
    "    while last != -1:\n",
    "        optimal = np.insert(optimal, 0, state[last]['board'], 0)\n",
    "        last = int(state[last]['parent'])\n",
    "    return optimal.reshape(-1, 3, 3)"
   ]
  },
  {
   "cell_type": "code",
   "execution_count": 7,
   "id": "85d75579-76d6-4386-b8dc-8c37e50ab1f4",
   "metadata": {},
   "outputs": [],
   "source": [
    "def solve(board, goal):                                        #solves the board\n",
    "    moves = np.array(   [   ('u', [0, 1, 2], -3),\n",
    "                            ('d', [6, 7, 8],  3),\n",
    "                            ('l', [0, 3, 6], -1),              #Defined the moves as , u - up, d - down, l- left and r - right.\n",
    "                            ('r', [2, 5, 8],  1)\n",
    "                            ],\n",
    "                dtype=  [  ('move',  str, 1),\n",
    "                           ('pos',   list),\n",
    "                           ('delta', int)\n",
    "                           ]\n",
    "                        )\n",
    "\n",
    "    dtstate = [ ('board',  list),\n",
    "                ('parent', int),\n",
    "                ('hn',     int)\n",
    "                ]\n",
    "    #values of initial state\n",
    "    parent = -1\n",
    "    gn     = 0\n",
    "    hn     = cal_heuristic(board, goal)\n",
    "    state = np.array([(board, parent,hn)], dtstate)\n",
    "\n",
    "    #initialization of priority queue\n",
    "    dtpriority = [  ('pos', int),\n",
    "                    ('hn', int)\n",
    "                    ]\n",
    "\n",
    "    priority = np.array( [(0, hn)], dtpriority)\n",
    "    #\n",
    "    while True:\n",
    "        priority = np.sort(priority, kind='mergesort', order=['hn', 'pos'])  #sorting the priority queue\n",
    "        pos, hn = priority[0]                                                #taking out first from sorted queue\n",
    "        priority = np.delete(priority, 0, 0)    \n",
    "        board, parent,hn = state[pos]\n",
    "        board = np.array(board)\n",
    "        loc = int(np.where(board == 0)[0])                                   #Locating Blank('0')\n",
    "        hn = hn + 1                            \n",
    "\n",
    "        for m in moves:\n",
    "            if loc not in m['pos']:\n",
    "                succ = deepcopy(board)                                       # generating new state as copy of current\n",
    "                succ[loc], succ[loc + m['delta']] = succ[loc + m['delta']], succ[loc]   \n",
    "\n",
    "                if ~(np.all(list(state['board']) == succ, 1)).any():         # checking if new (not repeat)\n",
    "                    hn = cal_heuristic(succ, goal)                           #calculating manhattan distance \n",
    "                    q = np.array(   [(succ, pos,hn)], dtstate)               #generate and add new state in the list\n",
    "                    state = np.append(state, q, 0)\n",
    "                                                        \n",
    "                    q = np.array([(len(state) - 1, hn)], dtpriority)    \n",
    "                    priority = np.append(priority, q, 0)\n",
    "\n",
    "                    if np.array_equal(succ, goal):                           #checking is this our goal state or not.\n",
    "                        \n",
    "                        print('Goal achieved!')                               \n",
    "                        return state, len(priority)\n",
    "\n",
    "    return state, len(priority)\n",
    "\n"
   ]
  },
  {
   "cell_type": "code",
   "execution_count": 8,
   "id": "22c025ba-db51-4dd6-9ddd-45780a21fa12",
   "metadata": {},
   "outputs": [],
   "source": [
    "def main():\n",
    "    print(\"Please enter the starting state of 8 PUZZLE \")\n",
    "    init_mat = getting_states()                            #taking initial input from user.\n",
    "    \n",
    "    if len(init_mat) != 9 or all(init_mat) == 0:           #checking that input is valid or not\n",
    "        print('incorrect Input State')\n",
    "        return\n",
    "    \n",
    "    print(\"Please enter the goal state of 8 PUZZLE\")       #taking goal input from user.\n",
    "    goal_mat = getting_states()\n",
    "    if len(goal_mat) != 9 or all(goal_mat) == 0:           #checking that goal input is valid or not.\n",
    "        print('incorrect Output State')\n",
    "        return\n",
    "    begin = time.time()\n",
    "    if(init_mat==goal_mat):                                #if initial state = goal state then print solution found.\n",
    "            print(init_mat)                                \n",
    "            print(\"solution found\")\n",
    "            return\n",
    "        \n",
    "    init_state = np.array(list(map(int, init_mat)))        #taking input as array\n",
    "    goal_state = np.array(list(map(int, goal_mat)))        #taking goal as array\n",
    "    if (inversion_method(init_state) % 2 != 0):            #checking for inversions.\n",
    "        print('not solvable')\n",
    "        return\n",
    "    \n",
    "            \n",
    "    state, explored = solve(init_state, goal_state)\n",
    "    print()\n",
    "    print('Total number of states generated:', len(state))\n",
    "    print('Total number of states explored: ', len(state) - explored)\n",
    "    print()\n",
    "    #Generating optimised steps\n",
    "    optimal = generate_optimal(state)\n",
    "    print('Total optimized steps:', len(optimal) - 1)\n",
    "    print()\n",
    "    print(optimal)\n",
    "    print()\n",
    "    end = time.time()\n",
    "    print(f\"Total runtime of the program is {end - begin}\")   #total runtime of the program is being calculated"
   ]
  },
  {
   "cell_type": "code",
   "execution_count": 9,
   "id": "4e6aab9a-2636-4fb3-94e6-0ee64082e282",
   "metadata": {},
   "outputs": [
    {
     "name": "stdout",
     "output_type": "stream",
     "text": [
      "Please enter the starting state of 8 PUZZLE \n"
     ]
    },
    {
     "name": "stdin",
     "output_type": "stream",
     "text": [
      "Enter the elements serially for the 8 PUZZLE:  123406758\n"
     ]
    },
    {
     "name": "stdout",
     "output_type": "stream",
     "text": [
      "Please enter the goal state of 8 PUZZLE\n"
     ]
    },
    {
     "name": "stdin",
     "output_type": "stream",
     "text": [
      "Enter the elements serially for the 8 PUZZLE:  123456780\n"
     ]
    },
    {
     "name": "stdout",
     "output_type": "stream",
     "text": [
      "Goal achieved!\n",
      "\n",
      "Total number of states generated: 7\n",
      "Total number of states explored:  2\n",
      "\n",
      "Total optimized steps: 2\n",
      "\n",
      "[[[1 2 3]\n",
      "  [4 0 6]\n",
      "  [7 5 8]]\n",
      "\n",
      " [[1 2 3]\n",
      "  [4 5 6]\n",
      "  [7 0 8]]\n",
      "\n",
      " [[1 2 3]\n",
      "  [4 5 6]\n",
      "  [7 8 0]]]\n",
      "\n",
      "Total runtime of the program is 0.01000070571899414\n"
     ]
    }
   ],
   "source": [
    "if __name__ == \"__main__\":\n",
    "    main()                                                       #calling main function"
   ]
  },
  {
   "cell_type": "code",
   "execution_count": null,
   "id": "23fda06d-dd15-4812-87bd-eafbe6402dab",
   "metadata": {},
   "outputs": [],
   "source": []
  }
 ],
 "metadata": {
  "kernelspec": {
   "display_name": "Python 3 (ipykernel)",
   "language": "python",
   "name": "python3"
  },
  "language_info": {
   "codemirror_mode": {
    "name": "ipython",
    "version": 3
   },
   "file_extension": ".py",
   "mimetype": "text/x-python",
   "name": "python",
   "nbconvert_exporter": "python",
   "pygments_lexer": "ipython3",
   "version": "3.8.7rc1"
  }
 },
 "nbformat": 4,
 "nbformat_minor": 5
}
